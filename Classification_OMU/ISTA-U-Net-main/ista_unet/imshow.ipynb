{
 "cells": [
  {
   "cell_type": "code",
   "execution_count": 62,
   "source": [
    "from dival.datasets import fbp_dataset\n",
    "from torch import cuda\n",
    "from torch._C import TracingState, device, dtype\n",
    "from torchvision import transforms\n",
    "import torch\n",
    "from torch.utils.data import Dataset, DataLoader, dataset\n",
    "from os import path\n",
    "import random\n",
    "import numpy as np\n",
    "from torch.utils.data.distributed import DistributedSampler\n",
    "import sys\n",
    "from dival import get_standard_dataset\n",
    "from dival.datasets.fbp_dataset import get_cached_fbp_dataset\n",
    "from torch.utils.data import Dataset as TorchDataset\n",
    "import torch\n",
    "from os import path\n",
    "import glob\n",
    "import matplotlib.pyplot as plt\n",
    "import pdb\n",
    "\n",
    "from torchvision.transforms.transforms import Grayscale\n",
    "from ISTA import dataset_dir\n",
    "from ISTA import model_save_dir\n",
    "import skimage.io as io\n",
    "from PIL import Image\n",
    "import cv2"
   ],
   "outputs": [],
   "metadata": {}
  },
  {
   "cell_type": "code",
   "execution_count": 63,
   "source": [
    "class RandomAccessTestDataset(TorchDataset):\n",
    "    def __init__(self):\n",
    "        super().__init__()\n",
    "        gt = sorted(glob.glob('/home/mars/workspace/cy_workspace/vscode/CT_Radon/unet_data/test_gt/*.png'))\n",
    "        sino = sorted(glob.glob('/home/mars/workspace/cy_workspace/vscode/CT_Radon/unet_signo_data/*.png'))\n",
    "        ira = sorted (glob.glob('/home/mars/workspace/cy_workspace/vscode/CT_Radon/Iradon_data/*.png'))\n",
    "        testset = []\n",
    "        for i,(s,g) in enumerate (zip(sino,gt)):\n",
    "            testset.append([s,g])\n",
    "        self.data_dir = testset\n",
    "        \n",
    "\n",
    "    def __len__(self):\n",
    "        return len(self.data_dir)\n",
    "\n",
    "    def __getitem__(self,idx):\n",
    "        # sino = cv2.imread(self.data_dir[0][0][idx])\n",
    "        # ground = cv2.imread(self.data_dir[0][1][idx])\n",
    "        sino = cv2.imread(self.data_dir[idx][0],cv2.IMREAD_GRAYSCALE)\n",
    "        sino = cv2.resize(sino,(512,512))\n",
    "        ground = cv2.imread(self.data_dir[idx][1],cv2.IMREAD_GRAYSCALE)\n",
    "        \n",
    "       \n",
    "\n",
    "        z=torch.tensor(sino)\n",
    "        x=torch.tensor(ground)\n",
    "        z=torch.unsqueeze(z,axis=0)\n",
    "        x=torch.unsqueeze(x,axis=0)\n",
    "    def plt (self):\n",
    "        plt.imshow(self.x, cmap='gray')\n",
    "        plt.axis('off')\n",
    "        plt.show()\n",
    "        print('asd')\n",
    "        import pdb;pdb.set_trace()\n",
    "        return z,x\n",
    "    "
   ],
   "outputs": [],
   "metadata": {}
  },
  {
   "cell_type": "code",
   "execution_count": 64,
   "source": [
    "loader = RandomAccessTestDataset()\n",
    "loader.plt"
   ],
   "outputs": [
    {
     "output_type": "execute_result",
     "data": {
      "text/plain": [
       "<bound method RandomAccessTestDataset.plt of <__main__.RandomAccessTestDataset object at 0x7f696c5bebd0>>"
      ]
     },
     "metadata": {},
     "execution_count": 64
    }
   ],
   "metadata": {}
  }
 ],
 "metadata": {
  "orig_nbformat": 4,
  "language_info": {
   "name": "python",
   "version": "3.7.10",
   "mimetype": "text/x-python",
   "codemirror_mode": {
    "name": "ipython",
    "version": 3
   },
   "pygments_lexer": "ipython3",
   "nbconvert_exporter": "python",
   "file_extension": ".py"
  },
  "kernelspec": {
   "name": "python3",
   "display_name": "Python 3.7.10 64-bit ('lcy': conda)"
  },
  "interpreter": {
   "hash": "6ba32516a33efad47b9b4231f4fc97ae58afc71eec0897f7d80f3ef0f9c6218c"
  }
 },
 "nbformat": 4,
 "nbformat_minor": 2
}